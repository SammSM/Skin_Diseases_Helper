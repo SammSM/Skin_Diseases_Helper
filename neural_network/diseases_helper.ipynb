{
 "cells": [
  {
   "cell_type": "code",
   "execution_count": 30,
   "id": "c5d8f3f9-e308-403c-8534-20d51137356e",
   "metadata": {},
   "outputs": [],
   "source": [
    "import numpy as np\n",
    "import matplotlib.pyplot as plt\n",
    "import matplotlib.image as mpimg\n",
    "import cv2\n",
    "import os"
   ]
  },
  {
   "cell_type": "code",
   "execution_count": 31,
   "id": "9fa1cb74-bbc4-4494-9a92-e2de89d8c7fa",
   "metadata": {},
   "outputs": [],
   "source": [
    "train_images = []\n",
    "train_labels = []\n",
    "\n",
    "path = 'diseases_dataset/train'\n",
    "\n",
    "for disease in os.listdir(f'{path}'):\n",
    "    for img in os.listdir(f'{path}/{disease}'):\n",
    "        image = cv2.imread(f'{path}/{disease}/{img}')\n",
    "\n",
    "        if len(image.shape) == 2:\n",
    "            image = cv2.cvtColor(image, cv2.COLOR_GRAY2RGB)\n",
    "        elif image.shape[2] == 4:\n",
    "            image = cv2.cvtColor(image, cv2.COLOR_RGBA2RGB)\n",
    "        \n",
    "        image = cv2.resize(image, (128, 128))\n",
    "        image = image.astype('float32') / 255.0\n",
    "\n",
    "        train_images.append(image)\n",
    "        train_labels.append(disease)"
   ]
  },
  {
   "cell_type": "code",
   "execution_count": 32,
   "id": "b8d48f92-fdc6-4fe0-867a-48fec3b71712",
   "metadata": {},
   "outputs": [],
   "source": [
    "test_images = []\n",
    "test_labels = []\n",
    "\n",
    "path = 'diseases_dataset/test'\n",
    "\n",
    "for disease in os.listdir(f'{path}'):\n",
    "    for img in os.listdir(f'{path}/{disease}'):\n",
    "        image = cv2.imread(f'{path}/{disease}/{img}')\n",
    "\n",
    "        if len(image.shape) == 2:\n",
    "            image = cv2.cvtColor(image, cv2.COLOR_GRAY2RGB)\n",
    "        elif image.shape[2] == 4:\n",
    "            image = cv2.cvtColor(image, cv2.COLOR_RGBA2RGB)\n",
    "        \n",
    "        image = cv2.resize(image, (128, 128))\n",
    "        image = image.astype('float32') / 255.0\n",
    "\n",
    "        test_images.append(image)\n",
    "        test_labels.append(disease)"
   ]
  },
  {
   "cell_type": "code",
   "execution_count": 33,
   "id": "84f2c149-db54-42db-9054-2923b8de8dad",
   "metadata": {},
   "outputs": [],
   "source": [
    "train_images_np = np.array(train_images)\n",
    "test_images_np = np.array(test_images)"
   ]
  },
  {
   "cell_type": "code",
   "execution_count": 34,
   "id": "261b71f6-3fce-4557-9d9e-daa052c6cc6d",
   "metadata": {},
   "outputs": [
    {
     "data": {
      "text/plain": [
       "(1344, 128, 128, 3)"
      ]
     },
     "execution_count": 34,
     "metadata": {},
     "output_type": "execute_result"
    }
   ],
   "source": [
    "train_images_np.shape"
   ]
  },
  {
   "cell_type": "code",
   "execution_count": 35,
   "id": "9e176685-8387-4856-b934-fa014aca2f8d",
   "metadata": {},
   "outputs": [
    {
     "data": {
      "text/plain": [
       "(140, 128, 128, 3)"
      ]
     },
     "execution_count": 35,
     "metadata": {},
     "output_type": "execute_result"
    }
   ],
   "source": [
    "test_images_np.shape"
   ]
  },
  {
   "cell_type": "code",
   "execution_count": 36,
   "id": "65e3a09a-dce1-4249-a206-61ee6210ca9d",
   "metadata": {},
   "outputs": [],
   "source": [
    "from sklearn.preprocessing import LabelEncoder"
   ]
  },
  {
   "cell_type": "code",
   "execution_count": 37,
   "id": "b6795fbf-b92b-4238-9057-ca1c220cc6aa",
   "metadata": {},
   "outputs": [],
   "source": [
    "label = LabelEncoder()"
   ]
  },
  {
   "cell_type": "code",
   "execution_count": 38,
   "id": "5471caf4-6ae1-47ad-800f-b352c423ad48",
   "metadata": {},
   "outputs": [],
   "source": [
    "train_labels_lb = label.fit_transform(train_labels)\n",
    "test_labels_lb = label.transform(test_labels)"
   ]
  },
  {
   "cell_type": "code",
   "execution_count": 39,
   "id": "1d960ada-d021-4d52-a3cb-7dbb089c364b",
   "metadata": {},
   "outputs": [],
   "source": [
    "from keras.utils import to_categorical"
   ]
  },
  {
   "cell_type": "code",
   "execution_count": 40,
   "id": "0ea88667-9c21-4cac-912c-a1bc4c66c73e",
   "metadata": {},
   "outputs": [
    {
     "data": {
      "text/plain": [
       "7"
      ]
     },
     "execution_count": 40,
     "metadata": {},
     "output_type": "execute_result"
    }
   ],
   "source": [
    "len(set(train_labels))"
   ]
  },
  {
   "cell_type": "code",
   "execution_count": 41,
   "id": "0c28f351-3a3c-4c64-ae60-c16ab3a6cb8e",
   "metadata": {},
   "outputs": [
    {
     "data": {
      "text/plain": [
       "7"
      ]
     },
     "execution_count": 41,
     "metadata": {},
     "output_type": "execute_result"
    }
   ],
   "source": [
    "len(set(test_labels))"
   ]
  },
  {
   "cell_type": "code",
   "execution_count": 42,
   "id": "4794402b-1efa-4be3-a0f7-91d0bab2f405",
   "metadata": {},
   "outputs": [],
   "source": [
    "train_labels_cat = to_categorical(train_labels_lb, num_classes=len(set(train_labels)))\n",
    "test_labels_cat = to_categorical(test_labels_lb, num_classes=len(set(train_labels)))"
   ]
  },
  {
   "cell_type": "code",
   "execution_count": 43,
   "id": "8f7edb4e-42c8-4101-bbc0-2fcaa1dfebff",
   "metadata": {},
   "outputs": [],
   "source": [
    "from keras import Sequential\n",
    "from keras.layers import Conv2D, MaxPooling2D, Flatten, Dense, Activation, BatchNormalization"
   ]
  },
  {
   "cell_type": "code",
   "execution_count": 44,
   "id": "e0158df3-39dc-41ad-a822-6335e10d579b",
   "metadata": {},
   "outputs": [],
   "source": [
    "from keras.optimizers import Adam"
   ]
  },
  {
   "cell_type": "code",
   "execution_count": 45,
   "id": "4e345242-02fc-438d-a7c2-b561f91f5fb9",
   "metadata": {},
   "outputs": [],
   "source": [
    "from keras.callbacks import EarlyStopping"
   ]
  },
  {
   "cell_type": "code",
   "execution_count": 84,
   "id": "4f9c1a1f-f3d8-4c98-8351-d03347f1a0e1",
   "metadata": {},
   "outputs": [],
   "source": [
    "model = Sequential()\n",
    "\n",
    "model.add(Conv2D(filters = 16, kernel_size = (3, 3), input_shape = (128, 128, 3)))\n",
    "model.add(BatchNormalization())\n",
    "model.add(Activation('relu'))\n",
    "model.add(MaxPooling2D(pool_size = (2, 2)))\n",
    "\n",
    "model.add(Conv2D(filters = 32, kernel_size = (3, 3)))\n",
    "model.add(BatchNormalization())\n",
    "model.add(Activation('relu'))\n",
    "model.add(MaxPooling2D(pool_size = (2, 2)))\n",
    "\n",
    "model.add(Flatten())\n",
    "\n",
    "model.add(Dense(32, activation = 'relu'))\n",
    "model.add(Dense(16, activation = 'relu'))\n",
    "\n",
    "model.add(Dense(7, activation = 'softmax'))"
   ]
  },
  {
   "cell_type": "code",
   "execution_count": 85,
   "id": "75497c97-2b34-44a1-84b5-63f7f47c395c",
   "metadata": {},
   "outputs": [],
   "source": [
    "model.compile(optimizer=Adam(learning_rate=0.0001), loss='categorical_crossentropy', metrics = ['accuracy'])"
   ]
  },
  {
   "cell_type": "code",
   "execution_count": 86,
   "id": "0a5c9689-1816-4f02-9d5b-3fb00dbcd2c6",
   "metadata": {},
   "outputs": [],
   "source": [
    "early_stop = EarlyStopping(monitor='val_loss', patience=5, restore_best_weights = True)"
   ]
  },
  {
   "cell_type": "code",
   "execution_count": 87,
   "id": "c655b5f6-b7b6-43f4-842c-146a74439233",
   "metadata": {},
   "outputs": [
    {
     "name": "stdout",
     "output_type": "stream",
     "text": [
      "Epoch 1/100\n",
      "\u001b[1m42/42\u001b[0m \u001b[32m━━━━━━━━━━━━━━━━━━━━\u001b[0m\u001b[37m\u001b[0m \u001b[1m6s\u001b[0m 120ms/step - accuracy: 0.1999 - loss: 1.9723 - val_accuracy: 0.2143 - val_loss: 1.9315\n",
      "Epoch 2/100\n",
      "\u001b[1m42/42\u001b[0m \u001b[32m━━━━━━━━━━━━━━━━━━━━\u001b[0m\u001b[37m\u001b[0m \u001b[1m5s\u001b[0m 120ms/step - accuracy: 0.3362 - loss: 1.7012 - val_accuracy: 0.1429 - val_loss: 1.9283\n",
      "Epoch 3/100\n",
      "\u001b[1m42/42\u001b[0m \u001b[32m━━━━━━━━━━━━━━━━━━━━\u001b[0m\u001b[37m\u001b[0m \u001b[1m5s\u001b[0m 116ms/step - accuracy: 0.3943 - loss: 1.5690 - val_accuracy: 0.1429 - val_loss: 1.9747\n",
      "Epoch 4/100\n",
      "\u001b[1m42/42\u001b[0m \u001b[32m━━━━━━━━━━━━━━━━━━━━\u001b[0m\u001b[37m\u001b[0m \u001b[1m5s\u001b[0m 117ms/step - accuracy: 0.4235 - loss: 1.4888 - val_accuracy: 0.1429 - val_loss: 1.9548\n",
      "Epoch 5/100\n",
      "\u001b[1m42/42\u001b[0m \u001b[32m━━━━━━━━━━━━━━━━━━━━\u001b[0m\u001b[37m\u001b[0m \u001b[1m5s\u001b[0m 118ms/step - accuracy: 0.5305 - loss: 1.3358 - val_accuracy: 0.1929 - val_loss: 1.9295\n",
      "Epoch 6/100\n",
      "\u001b[1m42/42\u001b[0m \u001b[32m━━━━━━━━━━━━━━━━━━━━\u001b[0m\u001b[37m\u001b[0m \u001b[1m5s\u001b[0m 118ms/step - accuracy: 0.5736 - loss: 1.2103 - val_accuracy: 0.1500 - val_loss: 1.9228\n",
      "Epoch 7/100\n",
      "\u001b[1m42/42\u001b[0m \u001b[32m━━━━━━━━━━━━━━━━━━━━\u001b[0m\u001b[37m\u001b[0m \u001b[1m5s\u001b[0m 124ms/step - accuracy: 0.6010 - loss: 1.1338 - val_accuracy: 0.1857 - val_loss: 1.9726\n",
      "Epoch 8/100\n",
      "\u001b[1m42/42\u001b[0m \u001b[32m━━━━━━━━━━━━━━━━━━━━\u001b[0m\u001b[37m\u001b[0m \u001b[1m5s\u001b[0m 122ms/step - accuracy: 0.6762 - loss: 1.0231 - val_accuracy: 0.2500 - val_loss: 1.8400\n",
      "Epoch 9/100\n",
      "\u001b[1m42/42\u001b[0m \u001b[32m━━━━━━━━━━━━━━━━━━━━\u001b[0m\u001b[37m\u001b[0m \u001b[1m5s\u001b[0m 125ms/step - accuracy: 0.6961 - loss: 0.9591 - val_accuracy: 0.2214 - val_loss: 1.9307\n",
      "Epoch 10/100\n",
      "\u001b[1m42/42\u001b[0m \u001b[32m━━━━━━━━━━━━━━━━━━━━\u001b[0m\u001b[37m\u001b[0m \u001b[1m5s\u001b[0m 123ms/step - accuracy: 0.7401 - loss: 0.8874 - val_accuracy: 0.2786 - val_loss: 1.7134\n",
      "Epoch 11/100\n",
      "\u001b[1m42/42\u001b[0m \u001b[32m━━━━━━━━━━━━━━━━━━━━\u001b[0m\u001b[37m\u001b[0m \u001b[1m5s\u001b[0m 125ms/step - accuracy: 0.7772 - loss: 0.7766 - val_accuracy: 0.4000 - val_loss: 1.6279\n",
      "Epoch 12/100\n",
      "\u001b[1m42/42\u001b[0m \u001b[32m━━━━━━━━━━━━━━━━━━━━\u001b[0m\u001b[37m\u001b[0m \u001b[1m5s\u001b[0m 119ms/step - accuracy: 0.8125 - loss: 0.7163 - val_accuracy: 0.4500 - val_loss: 1.3757\n",
      "Epoch 13/100\n",
      "\u001b[1m42/42\u001b[0m \u001b[32m━━━━━━━━━━━━━━━━━━━━\u001b[0m\u001b[37m\u001b[0m \u001b[1m5s\u001b[0m 115ms/step - accuracy: 0.8325 - loss: 0.6471 - val_accuracy: 0.5071 - val_loss: 1.3747\n",
      "Epoch 14/100\n",
      "\u001b[1m42/42\u001b[0m \u001b[32m━━━━━━━━━━━━━━━━━━━━\u001b[0m\u001b[37m\u001b[0m \u001b[1m5s\u001b[0m 117ms/step - accuracy: 0.8498 - loss: 0.6103 - val_accuracy: 0.6429 - val_loss: 1.0967\n",
      "Epoch 15/100\n",
      "\u001b[1m42/42\u001b[0m \u001b[32m━━━━━━━━━━━━━━━━━━━━\u001b[0m\u001b[37m\u001b[0m \u001b[1m5s\u001b[0m 116ms/step - accuracy: 0.8906 - loss: 0.5208 - val_accuracy: 0.6500 - val_loss: 1.0258\n",
      "Epoch 16/100\n",
      "\u001b[1m42/42\u001b[0m \u001b[32m━━━━━━━━━━━━━━━━━━━━\u001b[0m\u001b[37m\u001b[0m \u001b[1m5s\u001b[0m 115ms/step - accuracy: 0.9098 - loss: 0.4719 - val_accuracy: 0.7500 - val_loss: 0.9162\n",
      "Epoch 17/100\n",
      "\u001b[1m42/42\u001b[0m \u001b[32m━━━━━━━━━━━━━━━━━━━━\u001b[0m\u001b[37m\u001b[0m \u001b[1m5s\u001b[0m 116ms/step - accuracy: 0.9238 - loss: 0.4139 - val_accuracy: 0.7286 - val_loss: 0.8902\n",
      "Epoch 18/100\n",
      "\u001b[1m42/42\u001b[0m \u001b[32m━━━━━━━━━━━━━━━━━━━━\u001b[0m\u001b[37m\u001b[0m \u001b[1m5s\u001b[0m 120ms/step - accuracy: 0.9601 - loss: 0.3682 - val_accuracy: 0.7500 - val_loss: 0.8602\n",
      "Epoch 19/100\n",
      "\u001b[1m42/42\u001b[0m \u001b[32m━━━━━━━━━━━━━━━━━━━━\u001b[0m\u001b[37m\u001b[0m \u001b[1m5s\u001b[0m 116ms/step - accuracy: 0.9461 - loss: 0.3447 - val_accuracy: 0.7143 - val_loss: 0.8734\n",
      "Epoch 20/100\n",
      "\u001b[1m42/42\u001b[0m \u001b[32m━━━━━━━━━━━━━━━━━━━━\u001b[0m\u001b[37m\u001b[0m \u001b[1m5s\u001b[0m 115ms/step - accuracy: 0.9581 - loss: 0.3183 - val_accuracy: 0.7643 - val_loss: 0.8377\n",
      "Epoch 21/100\n",
      "\u001b[1m42/42\u001b[0m \u001b[32m━━━━━━━━━━━━━━━━━━━━\u001b[0m\u001b[37m\u001b[0m \u001b[1m5s\u001b[0m 116ms/step - accuracy: 0.9647 - loss: 0.2848 - val_accuracy: 0.7500 - val_loss: 0.7982\n",
      "Epoch 22/100\n",
      "\u001b[1m42/42\u001b[0m \u001b[32m━━━━━━━━━━━━━━━━━━━━\u001b[0m\u001b[37m\u001b[0m \u001b[1m5s\u001b[0m 116ms/step - accuracy: 0.9796 - loss: 0.2517 - val_accuracy: 0.7714 - val_loss: 0.8206\n",
      "Epoch 23/100\n",
      "\u001b[1m42/42\u001b[0m \u001b[32m━━━━━━━━━━━━━━━━━━━━\u001b[0m\u001b[37m\u001b[0m \u001b[1m5s\u001b[0m 116ms/step - accuracy: 0.9710 - loss: 0.2352 - val_accuracy: 0.7929 - val_loss: 0.7836\n",
      "Epoch 24/100\n",
      "\u001b[1m42/42\u001b[0m \u001b[32m━━━━━━━━━━━━━━━━━━━━\u001b[0m\u001b[37m\u001b[0m \u001b[1m5s\u001b[0m 116ms/step - accuracy: 0.9778 - loss: 0.2035 - val_accuracy: 0.7714 - val_loss: 0.7767\n",
      "Epoch 25/100\n",
      "\u001b[1m42/42\u001b[0m \u001b[32m━━━━━━━━━━━━━━━━━━━━\u001b[0m\u001b[37m\u001b[0m \u001b[1m5s\u001b[0m 115ms/step - accuracy: 0.9833 - loss: 0.1955 - val_accuracy: 0.7786 - val_loss: 0.7848\n",
      "Epoch 26/100\n",
      "\u001b[1m42/42\u001b[0m \u001b[32m━━━━━━━━━━━━━━━━━━━━\u001b[0m\u001b[37m\u001b[0m \u001b[1m5s\u001b[0m 116ms/step - accuracy: 0.9888 - loss: 0.1499 - val_accuracy: 0.7643 - val_loss: 0.8014\n",
      "Epoch 27/100\n",
      "\u001b[1m42/42\u001b[0m \u001b[32m━━━━━━━━━━━━━━━━━━━━\u001b[0m\u001b[37m\u001b[0m \u001b[1m5s\u001b[0m 115ms/step - accuracy: 0.9929 - loss: 0.1617 - val_accuracy: 0.7643 - val_loss: 0.7626\n",
      "Epoch 28/100\n",
      "\u001b[1m42/42\u001b[0m \u001b[32m━━━━━━━━━━━━━━━━━━━━\u001b[0m\u001b[37m\u001b[0m \u001b[1m5s\u001b[0m 115ms/step - accuracy: 0.9954 - loss: 0.1457 - val_accuracy: 0.7714 - val_loss: 0.7583\n",
      "Epoch 29/100\n",
      "\u001b[1m42/42\u001b[0m \u001b[32m━━━━━━━━━━━━━━━━━━━━\u001b[0m\u001b[37m\u001b[0m \u001b[1m5s\u001b[0m 116ms/step - accuracy: 0.9942 - loss: 0.1247 - val_accuracy: 0.7571 - val_loss: 0.7830\n",
      "Epoch 30/100\n",
      "\u001b[1m42/42\u001b[0m \u001b[32m━━━━━━━━━━━━━━━━━━━━\u001b[0m\u001b[37m\u001b[0m \u001b[1m5s\u001b[0m 117ms/step - accuracy: 0.9941 - loss: 0.1178 - val_accuracy: 0.7786 - val_loss: 0.7931\n",
      "Epoch 31/100\n",
      "\u001b[1m42/42\u001b[0m \u001b[32m━━━━━━━━━━━━━━━━━━━━\u001b[0m\u001b[37m\u001b[0m \u001b[1m5s\u001b[0m 117ms/step - accuracy: 0.9975 - loss: 0.1011 - val_accuracy: 0.7500 - val_loss: 0.7890\n",
      "Epoch 32/100\n",
      "\u001b[1m42/42\u001b[0m \u001b[32m━━━━━━━━━━━━━━━━━━━━\u001b[0m\u001b[37m\u001b[0m \u001b[1m5s\u001b[0m 115ms/step - accuracy: 0.9979 - loss: 0.0878 - val_accuracy: 0.7714 - val_loss: 0.7987\n",
      "Epoch 33/100\n",
      "\u001b[1m42/42\u001b[0m \u001b[32m━━━━━━━━━━━━━━━━━━━━\u001b[0m\u001b[37m\u001b[0m \u001b[1m5s\u001b[0m 117ms/step - accuracy: 0.9964 - loss: 0.0898 - val_accuracy: 0.7643 - val_loss: 0.7995\n"
     ]
    },
    {
     "data": {
      "text/plain": [
       "<keras.src.callbacks.history.History at 0x224d32c4eb0>"
      ]
     },
     "execution_count": 87,
     "metadata": {},
     "output_type": "execute_result"
    }
   ],
   "source": [
    "model.fit(train_images_np, train_labels_cat, validation_data=(test_images_np, test_labels_cat), epochs = 100, callbacks=[early_stop])"
   ]
  },
  {
   "cell_type": "code",
   "execution_count": 182,
   "id": "28b15e6a-984d-49a2-be3d-5e9b9d398a24",
   "metadata": {},
   "outputs": [
    {
     "name": "stderr",
     "output_type": "stream",
     "text": [
      "WARNING:absl:You are saving your model as an HDF5 file via `model.save()` or `keras.saving.save_model(model)`. This file format is considered legacy. We recommend using instead the native Keras format, e.g. `model.save('my_model.keras')` or `keras.saving.save_model(model, 'my_model.keras')`. \n"
     ]
    }
   ],
   "source": [
    "model.save('diseases_helper.h5')"
   ]
  },
  {
   "cell_type": "code",
   "execution_count": null,
   "id": "2573cddb-aadf-4306-892d-d0aab1596bff",
   "metadata": {},
   "outputs": [],
   "source": []
  }
 ],
 "metadata": {
  "kernelspec": {
   "display_name": "Python 3 (ipykernel)",
   "language": "python",
   "name": "python3"
  },
  "language_info": {
   "codemirror_mode": {
    "name": "ipython",
    "version": 3
   },
   "file_extension": ".py",
   "mimetype": "text/x-python",
   "name": "python",
   "nbconvert_exporter": "python",
   "pygments_lexer": "ipython3",
   "version": "3.9.6"
  }
 },
 "nbformat": 4,
 "nbformat_minor": 5
}
